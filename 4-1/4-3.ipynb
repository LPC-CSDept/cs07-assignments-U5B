{
 "cells": [
  {
   "cell_type": "code",
   "execution_count": 1,
   "metadata": {},
   "outputs": [
    {
     "name": "stdout",
     "output_type": "stream",
     "text": [
      "1\n",
      "2\n",
      "3\n",
      "4\n",
      "5\n",
      "6\n",
      "7\n",
      "8\n",
      "9\n",
      "10\n"
     ]
    }
   ],
   "source": [
    "check = 0\n",
    "while (check < 10):\n",
    "  check = check + 1\n",
    "  print(check)\n",
    "  "
   ]
  },
  {
   "cell_type": "code",
   "execution_count": 3,
   "metadata": {},
   "outputs": [
    {
     "name": "stdout",
     "output_type": "stream",
     "text": [
      "\n"
     ]
    }
   ],
   "source": [
    "check = str(input('enter a single character'))\n",
    "while (check != 'q'):\n",
    "  print(check)\n",
    "  check = str(input('enter a single character'))"
   ]
  },
  {
   "cell_type": "code",
   "execution_count": 71,
   "metadata": {},
   "outputs": [
    {
     "name": "stdout",
     "output_type": "stream",
     "text": [
      "7\n",
      "76\n"
     ]
    }
   ],
   "source": [
    "from random import randint\n",
    "currentNumber = 100\n",
    "previousNumber = 100\n",
    "while (currentNumber <= previousNumber):\n",
    "  previousNumber = currentNumber\n",
    "  currentNumber = int(randint(0, 99))\n",
    "  if (previousNumber == 100): previousNumber == currentNumber\n",
    "  print(currentNumber)\n",
    "\n"
   ]
  },
  {
   "cell_type": "code",
   "execution_count": 73,
   "metadata": {},
   "outputs": [
    {
     "name": "stdout",
     "output_type": "stream",
     "text": [
      "That was not a number between 0-100\n",
      "69420\n",
      "That was not a number between 0-100\n",
      "420\n",
      "That was a number between 0-100\n",
      "69\n"
     ]
    }
   ],
   "source": [
    "inputNumber = int(input('enter a number between 0-100'))\n",
    "while (inputNumber < 0 or inputNumber > 100):\n",
    "  print('That was not a number between 0-100')\n",
    "  print(inputNumber)\n",
    "  inputNumber = int(input('enter a number between 0-100'))\n",
    "print('Yay!')\n",
    "print(inputNumber)\n",
    "\n",
    "  "
   ]
  }
 ],
 "metadata": {
  "interpreter": {
   "hash": "63fd5069d213b44bf678585dea6b12cceca9941eaf7f819626cde1f2670de90d"
  },
  "kernelspec": {
   "display_name": "Python 3.9.7 64-bit",
   "language": "python",
   "name": "python3"
  },
  "language_info": {
   "codemirror_mode": {
    "name": "ipython",
    "version": 3
   },
   "file_extension": ".py",
   "mimetype": "text/x-python",
   "name": "python",
   "nbconvert_exporter": "python",
   "pygments_lexer": "ipython3",
   "version": "3.9.7"
  },
  "orig_nbformat": 4
 },
 "nbformat": 4,
 "nbformat_minor": 2
}
