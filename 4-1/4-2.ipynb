{
 "cells": [
  {
   "cell_type": "code",
   "execution_count": 4,
   "metadata": {},
   "outputs": [
    {
     "name": "stdout",
     "output_type": "stream",
     "text": [
      " 42 51 88 93 43 56 33 0 75 29 95 53 67 70 41 86 37 38 4 58 90 28 0 76 18 38 83 97 65 97 73 22 87 25 72 51 74 60 4 23 64 57 38 27 37 89 12 48 29 89 60 17 88 72 62 15 92 16 80 19 4 32 18 43 16 23 72 9 91 50 4 100 94 77 1 99 32 76 4 63 88 49 65 17 82 51 9 32 100 4 1 26 39 36 43 6 93 51 82 39\n"
     ]
    }
   ],
   "source": [
    "from random import randint\n",
    "check = False\n",
    "counter = 0\n",
    "numberList = ''\n",
    "while (check == False):\n",
    "  number = int(randint(0, 100))\n",
    "  numberList = numberList + ' ' + str(number)\n",
    "  counter = counter + 1\n",
    "  if (counter > 99): check = True\n",
    "print(numberList)"
   ]
  }
 ],
 "metadata": {
  "interpreter": {
   "hash": "63fd5069d213b44bf678585dea6b12cceca9941eaf7f819626cde1f2670de90d"
  },
  "kernelspec": {
   "display_name": "Python 3.9.7 64-bit",
   "language": "python",
   "name": "python3"
  },
  "language_info": {
   "codemirror_mode": {
    "name": "ipython",
    "version": 3
   },
   "file_extension": ".py",
   "mimetype": "text/x-python",
   "name": "python",
   "nbconvert_exporter": "python",
   "pygments_lexer": "ipython3",
   "version": "3.9.7"
  },
  "orig_nbformat": 4
 },
 "nbformat": 4,
 "nbformat_minor": 2
}
