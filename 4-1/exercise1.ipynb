{
 "cells": [
  {
   "cell_type": "code",
   "execution_count": 1,
   "metadata": {},
   "outputs": [
    {
     "name": "stdout",
     "output_type": "stream",
     "text": [
      " 2 4 8 16 32 64 128 256 512\n"
     ]
    }
   ],
   "source": [
    "# Exercise 1\n",
    "# For loop that prints 2^#\n",
    "\n",
    "startingNumber = 2\n",
    "powerNumberEnd = 10\n",
    "num = 1\n",
    "list = \"\"\n",
    "\n",
    "for num in range(0, powerNumberEnd):\n",
    "  poweredNumber = startingNumber ** num \n",
    "  list = list + \" \" + str(poweredNumber)\n",
    "print(list)\n",
    "  \n",
    "  \n",
    "  "
   ]
  }
 ],
 "metadata": {
  "interpreter": {
   "hash": "2be5faf79681da6f2a61fdfdd5405d65d042280f7fba6178067603e3a2925119"
  },
  "kernelspec": {
   "display_name": "Python 3.10.2 64-bit",
   "language": "python",
   "name": "python3"
  },
  "language_info": {
   "codemirror_mode": {
    "name": "ipython",
    "version": 3
   },
   "file_extension": ".py",
   "mimetype": "text/x-python",
   "name": "python",
   "nbconvert_exporter": "python",
   "pygments_lexer": "ipython3",
   "version": "3.9.7"
  },
  "orig_nbformat": 4
 },
 "nbformat": 4,
 "nbformat_minor": 2
}
