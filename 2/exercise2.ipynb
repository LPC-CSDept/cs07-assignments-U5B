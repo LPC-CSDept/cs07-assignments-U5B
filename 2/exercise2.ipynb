{
 "cells": [
  {
   "cell_type": "code",
   "execution_count": 1,
   "metadata": {},
   "outputs": [
    {
     "name": "stdout",
     "output_type": "stream",
     "text": [
      "69C -> 156.20F\n"
     ]
    }
   ],
   "source": [
    "# Temperture Converter\n",
    "# Celsius to Fahrenheit Formula: F = C * 9 / 5 + 32\n",
    "# Fahrenheit to Celsius Formula: C = F - 32 * 5 / 9\n",
    "\n",
    "# Reset variables\n",
    "degrees = None\n",
    "input_constant = None\n",
    "output = None\n",
    "ending = None\n",
    "\n",
    "# Fetch input\n",
    "degrees = input('Input Temperature: ##F | ##C')\n",
    "input_constant = degrees\n",
    "if (degrees.endswith('C')):\n",
    "  # Execute Celsius Conversion\n",
    "  degrees = degrees.rstrip('C')\n",
    "  degrees = int(degrees)\n",
    "  output = degrees * 9 / 5 + 32\n",
    "  ending = 'F'\n",
    "elif (degrees.endswith('F')):\n",
    "  # Execute Fahrenheit Temperture\n",
    "  degrees = degrees.rstrip('F')\n",
    "  degrees = int(degrees)\n",
    "  output = degrees - 32 * 5 / 9\n",
    "  ending = 'C'\n",
    "else:\n",
    "  raise Exception('Incorrect Format: ##F | ##C')\n",
    "\n",
    "# Output\n",
    "print(input_constant + ' -> ' + '{0:.2f}'.format(output) + ending)\n"
   ]
  }
 ],
 "metadata": {
  "interpreter": {
   "hash": "aa3dbd25a1aa1da4d31b729958a4d9ba53ba82bd518eb6e62dc535e732002114"
  },
  "kernelspec": {
   "display_name": "Python 3.9.7 ('base')",
   "language": "python",
   "name": "python3"
  },
  "language_info": {
   "codemirror_mode": {
    "name": "ipython",
    "version": 3
   },
   "file_extension": ".py",
   "mimetype": "text/x-python",
   "name": "python",
   "nbconvert_exporter": "python",
   "pygments_lexer": "ipython3",
   "version": "3.9.7"
  },
  "orig_nbformat": 4
 },
 "nbformat": 4,
 "nbformat_minor": 2
}
