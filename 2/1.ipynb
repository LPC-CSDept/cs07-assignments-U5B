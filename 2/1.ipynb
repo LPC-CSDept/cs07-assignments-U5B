{
 "cells": [
  {
   "cell_type": "code",
   "execution_count": 8,
   "metadata": {},
   "outputs": [
    {
     "name": "stdout",
     "output_type": "stream",
     "text": [
      "Total # of Students: 100 | Male: 40 | Female: 60\n",
      "Percentage of Males: 40.0%\n",
      "Percentage of Females: 60.0%\n"
     ]
    }
   ],
   "source": [
    "# Male and Female Percentages\n",
    "\n",
    "# Reset Variables\n",
    "male = None\n",
    "female = None\n",
    "students = None\n",
    "\n",
    "# Get Input\n",
    "male = int(input('Enter # of Males:\\n'))\n",
    "female = int(input('Enter # of Females:\\n'))\n",
    "# Get total and print\n",
    "students = male + female\n",
    "print('Total # of Students: {0} | Male: {1} | Female: {2}'.format(students, male, female))\n",
    "\n",
    "# Calculate percentages and print\n",
    "male = (male / students) * 100\n",
    "female = (female / students) * 100\n",
    "\n",
    "print('Percentage of Males: {0:.1f}%\\nPercentage of Females: {1:.1f}%'.format(male, female))"
   ]
  }
 ],
 "metadata": {
  "interpreter": {
   "hash": "aa3dbd25a1aa1da4d31b729958a4d9ba53ba82bd518eb6e62dc535e732002114"
  },
  "kernelspec": {
   "display_name": "Python 3.9.7 ('base')",
   "language": "python",
   "name": "python3"
  },
  "language_info": {
   "codemirror_mode": {
    "name": "ipython",
    "version": 3
   },
   "file_extension": ".py",
   "mimetype": "text/x-python",
   "name": "python",
   "nbconvert_exporter": "python",
   "pygments_lexer": "ipython3",
   "version": "3.9.7"
  },
  "orig_nbformat": 4
 },
 "nbformat": 4,
 "nbformat_minor": 2
}
