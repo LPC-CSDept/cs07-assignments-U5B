{
 "cells": [
  {
   "cell_type": "code",
   "execution_count": 15,
   "metadata": {},
   "outputs": [
    {
     "name": "stdout",
     "output_type": "stream",
     "text": [
      "[3, 2, 2, 1, 2, 3, 2, 3, 3, 1]\n",
      "{'0': 0, '1': 2, '2': 4, '3': 4, '4': 0}\n",
      "Answer: 2 (4 times occured)\n"
     ]
    }
   ],
   "source": [
    "import random\n",
    "def generateRandomNumbers ():\n",
    "  randomNumbers = []\n",
    "  for i in range(0, 10):\n",
    "    randomNumbers.append(random.randint(0,4))\n",
    "  return randomNumbers\n",
    "\n",
    "def occuredNumbers (randomNumbers):\n",
    "  occured = {'0': 0, '1': 0, '2': 0, '3': 0, '4': 0}\n",
    "  for i in randomNumbers:\n",
    "    occured[str(i)] += 1\n",
    "  return occured\n",
    "\n",
    "def findHighestValue (occured):\n",
    "  highestValue = 0\n",
    "  for num in occured:\n",
    "    if occured[num] > highestValue:\n",
    "      highestValue = occured[num]\n",
    "      best = { \"number\": num, \"occured\": occured[num] }\n",
    "  return best\n",
    "\n",
    "def printAnswer (best):\n",
    "  print('Answer: ' + str(best[\"number\"]) + ' (' + str(best[\"occured\"]) + ' times occured)')\n",
    "  \n",
    "randomNumberList = generateRandomNumbers()\n",
    "print(randomNumberList)\n",
    "occured = occuredNumbers(randomNumberList)\n",
    "highestValue = findHighestValue(occured)\n",
    "printAnswer(highestValue)\n",
    "\n",
    "\n",
    "\n"
   ]
  }
 ],
 "metadata": {
  "interpreter": {
   "hash": "f08154012ddadd8e950e6e9e035c7a7b32c136e7647e9b7c77e02eb723a8bedb"
  },
  "kernelspec": {
   "display_name": "Python 3.9.12 ('base')",
   "language": "python",
   "name": "python3"
  },
  "language_info": {
   "codemirror_mode": {
    "name": "ipython",
    "version": 3
   },
   "file_extension": ".py",
   "mimetype": "text/x-python",
   "name": "python",
   "nbconvert_exporter": "python",
   "pygments_lexer": "ipython3",
   "version": "3.9.12"
  },
  "orig_nbformat": 4
 },
 "nbformat": 4,
 "nbformat_minor": 2
}
