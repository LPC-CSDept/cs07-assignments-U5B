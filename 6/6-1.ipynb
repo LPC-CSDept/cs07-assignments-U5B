{
 "cells": [
  {
   "cell_type": "code",
   "execution_count": 2,
   "metadata": {},
   "outputs": [
    {
     "name": "stdout",
     "output_type": "stream",
     "text": [
      "12\n"
     ]
    }
   ],
   "source": [
    "def sumProduct(list1, list2):\n",
    "  sumList = []\n",
    "  sum = 0\n",
    "  for i in range(len(list1)):\n",
    "    sumList.append(list1[i] * list2[i])\n",
    "  for i in range(len(list1)):\n",
    "    sum += sumList[i]\n",
    "  return sum\n",
    "\n",
    "result = sumProduct([2, 2, 2], [2, 2, 2])\n",
    "print(result)"
   ]
  }
 ],
 "metadata": {
  "interpreter": {
   "hash": "f08154012ddadd8e950e6e9e035c7a7b32c136e7647e9b7c77e02eb723a8bedb"
  },
  "kernelspec": {
   "display_name": "Python 3.9.12 ('base')",
   "language": "python",
   "name": "python3"
  },
  "language_info": {
   "codemirror_mode": {
    "name": "ipython",
    "version": 3
   },
   "file_extension": ".py",
   "mimetype": "text/x-python",
   "name": "python",
   "nbconvert_exporter": "python",
   "pygments_lexer": "ipython3",
   "version": "3.9.12"
  },
  "orig_nbformat": 4
 },
 "nbformat": 4,
 "nbformat_minor": 2
}
