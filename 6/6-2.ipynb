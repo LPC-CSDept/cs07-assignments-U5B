{
 "cells": [
  {
   "cell_type": "code",
   "execution_count": 7,
   "metadata": {},
   "outputs": [
    {
     "name": "stdout",
     "output_type": "stream",
     "text": [
      "PAP\n"
     ]
    }
   ],
   "source": [
    "inputString = input('Enter a string: spaces and lowercase characters will be stripped')\n",
    "def stripSpace(string:str):\n",
    "  newString = ''\n",
    "  for char in string:\n",
    "    char = char.strip(' abcdefghijklmnopqrstuvwxyz')\n",
    "    if (char != ''):\n",
    "      newString += char\n",
    "  return newString\n",
    "\n",
    "result = stripSpace(inputString)\n",
    "print(result)"
   ]
  }
 ],
 "metadata": {
  "interpreter": {
   "hash": "81794d4967e6c3204c66dcd87b604927b115b27c00565d3d43f05ba2f3a2cb0d"
  },
  "kernelspec": {
   "display_name": "Python 3.9.7 64-bit",
   "language": "python",
   "name": "python3"
  },
  "language_info": {
   "codemirror_mode": {
    "name": "ipython",
    "version": 3
   },
   "file_extension": ".py",
   "mimetype": "text/x-python",
   "name": "python",
   "nbconvert_exporter": "python",
   "pygments_lexer": "ipython3",
   "version": "3.9.7"
  },
  "orig_nbformat": 4
 },
 "nbformat": 4,
 "nbformat_minor": 2
}
