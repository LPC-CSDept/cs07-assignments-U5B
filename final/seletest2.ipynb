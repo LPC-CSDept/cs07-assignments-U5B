{
 "cells": [
  {
   "cell_type": "code",
   "execution_count": 16,
   "metadata": {},
   "outputs": [],
   "source": [
    "\n",
    "import requests\n",
    "from bs4 import BeautifulSoup\n",
    "from selenium import webdriver\n",
    "DRIVER_PATH = '../ignore/chromedriver'\n",
    "# driver = webdriver.Chrome(executable_path=DRIVER_PATH)\n",
    "prefixURL = 'https://bw11.clpccd.cc.ca.us/clpccd/2022/01/'\n",
    "URL = 'https://bw11.clpccd.cc.ca.us/clpccd/2022/01/sched_l.htm'\n",
    "data = requests.get(URL)\n",
    "\n",
    "soup = BeautifulSoup(data.content, 'html.parser')\n",
    "# print(soup)\n",
    "\n",
    "for anchor in soup.find_all(\"a\"):\n",
    "  print('https://bw11.clpccd.cc.ca.us/clpccd/2022/01/' + anchor['href'])"
   ]
  }
 ],
 "metadata": {
  "interpreter": {
   "hash": "0484de58d0e6f367e38212e66a445a7be7c68e1190c80e7d7c8471a9129822ee"
  },
  "kernelspec": {
   "display_name": "Python 3.9.7 ('base': conda)",
   "language": "python",
   "name": "python3"
  },
  "language_info": {
   "codemirror_mode": {
    "name": "ipython",
    "version": 3
   },
   "file_extension": ".py",
   "mimetype": "text/x-python",
   "name": "python",
   "nbconvert_exporter": "python",
   "pygments_lexer": "ipython3",
   "version": "3.9.7"
  },
  "orig_nbformat": 4
 },
 "nbformat": 4,
 "nbformat_minor": 2
}
