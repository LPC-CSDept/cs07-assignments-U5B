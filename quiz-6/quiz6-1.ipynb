{
 "cells": [
  {
   "cell_type": "code",
   "execution_count": 53,
   "metadata": {},
   "outputs": [
    {
     "name": "stdout",
     "output_type": "stream",
     "text": [
      "ID | Name | Scores | Total | Average\n",
      "9999999 | CharacterMax | [100, 80, 70, 60] | 310 | 77.5\n",
      "9999998 | CharacterMa | [99, 80, 60, 50] | 289 | 72.25\n"
     ]
    }
   ],
   "source": [
    "# Quiz 6 Question 1\n",
    "kim = { 'id': 9999999, 'name': 'CharacterMax', 'scores': [100, 80, 70, 60] }\n",
    "kim2 = { 'id': 9999998, 'name': 'CharacterMa', 'scores': [99, 80, 60, 50] }\n",
    "\n",
    "database = []\n",
    "\n",
    "def createUser ():\n",
    "  userId = int(input('Enter a user id...'))\n",
    "  if (userId == '' or userId > 9999999): raise TypeError('Invalid id...')\n",
    "  userName = str(input('Enter a name with a max of 12 characters and no spaces...'))\n",
    "  lengthOfUsername = len(userName)\n",
    "  if (userName == '' or userName.find(' ') != -1 or lengthOfUsername > 12): raise TypeError('Invalid username...')\n",
    "  userScores = []\n",
    "  scoreCheck = True\n",
    "  while (scoreCheck == True):\n",
    "    score = input('Enter a number between 0 and 100. Enter -1 to exit.')\n",
    "    if (score == ''): \n",
    "      scoreCheck == False\n",
    "      break\n",
    "    score = int(score)\n",
    "    if (score > 100 or score < -1): raise TypeError('Invalid score...')\n",
    "    if (score > -1): \n",
    "      userScores.append(score)\n",
    "    else:\n",
    "      scoreCheck = False\n",
    "  if (userScores == []): raise TypeError('Scores is empty!')\n",
    "  userScores.sort()\n",
    "  return { 'id': userId, 'name': userName, 'scores': userScores }\n",
    "\n",
    "def addUser (addedUser): # verify user\n",
    "  if (addedUser['id'] == None or addedUser['name'] == None or addedUser['scores'] == None): raise TypeError('no id property')\n",
    "  foundInDatabase = False\n",
    "  for user in database:\n",
    "    if (user['id'] == addedUser['id']):\n",
    "      foundInDatabase = True\n",
    "      print('Overwriting id:', user['id'], 'with name:', user['name'])\n",
    "      database.remove(user)\n",
    "      database.append(addedUser)\n",
    "  if (foundInDatabase == False): database.append(addedUser)\n",
    "\n",
    "def printDatabase ():\n",
    "  print('ID | Name | Scores | Total | Average')\n",
    "  for user in database:\n",
    "    print(user['id'], '|', user['name'], '|', user['scores'], '|', user['total'], '|', user['average'])\n",
    "\n",
    "def score (scores, average):\n",
    "  total = 0\n",
    "  for i in scores:\n",
    "    total = total + i\n",
    "  if (average == True): total = total / len(scores)\n",
    "  return total\n",
    "\n",
    "def calculateAverageAndTotal ():\n",
    "  totalScore = 0\n",
    "  averageScore = 0\n",
    "  for user in database:\n",
    "    totalScore = score(user['scores'], False)\n",
    "    user['total'] = totalScore\n",
    "  for user in database:\n",
    "    averageScore = score(user['scores'], True)\n",
    "    user['average'] = averageScore\n",
    "    \n",
    "def findHighScore():\n",
    "  score = { 'name': 0, 'total': 0 }\n",
    "  for user in database:\n",
    "    \n",
    "  \n",
    "\n",
    "addUser(kim)\n",
    "addUser(kim2)\n",
    "calculateAverageAndTotal()\n",
    "printDatabase()"
   ]
  },
  {
   "cell_type": "code",
   "execution_count": null,
   "metadata": {},
   "outputs": [],
   "source": []
  }
 ],
 "metadata": {
  "interpreter": {
   "hash": "0484de58d0e6f367e38212e66a445a7be7c68e1190c80e7d7c8471a9129822ee"
  },
  "kernelspec": {
   "display_name": "Python 3.9.7 ('base': conda)",
   "language": "python",
   "name": "python3"
  },
  "language_info": {
   "codemirror_mode": {
    "name": "ipython",
    "version": 3
   },
   "file_extension": ".py",
   "mimetype": "text/x-python",
   "name": "python",
   "nbconvert_exporter": "python",
   "pygments_lexer": "ipython3",
   "version": "3.9.7"
  },
  "orig_nbformat": 4
 },
 "nbformat": 4,
 "nbformat_minor": 2
}
