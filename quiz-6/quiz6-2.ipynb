{
 "cells": [
  {
   "cell_type": "code",
   "execution_count": 5,
   "metadata": {},
   "outputs": [
    {
     "name": "stdout",
     "output_type": "stream",
     "text": [
      "2\n",
      "4\n",
      "6\n",
      "8\n",
      "10\n",
      "2\n",
      "4\n",
      "6\n",
      "8\n",
      "10\n"
     ]
    }
   ],
   "source": [
    "inputList1 = list(range(1, 11))\n",
    "inputList2 = list(range(1, 11))\n",
    "\n",
    "getEven = lambda num : num % 2 == 0\n",
    "\n",
    "def getMerged (list1, list2): # generator\n",
    "  listComplete = getList(list1 + list2)\n",
    "  for iterator in listComplete:\n",
    "    yield iterator\n",
    "  \n",
    "def getList (list): # function inside of generator\n",
    "  evenList = []\n",
    "  for num in list: \n",
    "    if (getEven(num)): evenList.append(num)\n",
    "  return evenList\n",
    "\n",
    "gen = getMerged(inputList1, inputList2)\n",
    "\n",
    "for i in gen:\n",
    "  print(i)"
   ]
  }
 ],
 "metadata": {
  "interpreter": {
   "hash": "0484de58d0e6f367e38212e66a445a7be7c68e1190c80e7d7c8471a9129822ee"
  },
  "kernelspec": {
   "display_name": "Python 3.9.7 ('base': conda)",
   "language": "python",
   "name": "python3"
  },
  "language_info": {
   "codemirror_mode": {
    "name": "ipython",
    "version": 3
   },
   "file_extension": ".py",
   "mimetype": "text/x-python",
   "name": "python",
   "nbconvert_exporter": "python",
   "pygments_lexer": "ipython3",
   "version": "3.9.7"
  },
  "orig_nbformat": 4
 },
 "nbformat": 4,
 "nbformat_minor": 2
}
