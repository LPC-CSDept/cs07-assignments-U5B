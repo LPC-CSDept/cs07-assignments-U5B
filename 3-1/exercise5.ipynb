{
 "cells": [
  {
   "cell_type": "code",
   "execution_count": 45,
   "metadata": {},
   "outputs": [
    {
     "name": "stdout",
     "output_type": "stream",
     "text": [
      "Two numbers are equal\n",
      "14 14 73\n"
     ]
    }
   ],
   "source": [
    "import random\n",
    "number1 = random.randint(0,100)\n",
    "number2 = random.randint(0,100)\n",
    "number3 = random.randint(0,100)\n",
    "\n",
    "if (number1 == number2 and number1 == number3): # assume number2 == number3 if number1 == number2\n",
    "  print(\"All numbers are equal\")\n",
    "elif (number1 != number2 and number1 != number3 and number2 != number3):\n",
    "  print(\"All numbers are different\")\n",
    "else:\n",
    "  if (number1 == number2 or number1 == number3 or number2 == number3):\n",
    "    print(\"Two numbers are equal\")\n",
    "    if (number1 == number3): # the numbers that are the same will always be grouped unless number1 == number3\n",
    "      print(number1, number3, number2)\n",
    "    else:\n",
    "      print(number1, number2, number3)"
   ]
  }
 ],
 "metadata": {
  "interpreter": {
   "hash": "63fd5069d213b44bf678585dea6b12cceca9941eaf7f819626cde1f2670de90d"
  },
  "kernelspec": {
   "display_name": "Python 3.9.7 64-bit",
   "language": "python",
   "name": "python3"
  },
  "language_info": {
   "codemirror_mode": {
    "name": "ipython",
    "version": 3
   },
   "file_extension": ".py",
   "mimetype": "text/x-python",
   "name": "python",
   "nbconvert_exporter": "python",
   "pygments_lexer": "ipython3",
   "version": "3.9.7"
  },
  "orig_nbformat": 4
 },
 "nbformat": 4,
 "nbformat_minor": 2
}
