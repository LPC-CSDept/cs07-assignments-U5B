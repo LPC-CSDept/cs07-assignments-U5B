{
 "cells": [
  {
   "cell_type": "code",
   "execution_count": 44,
   "metadata": {},
   "outputs": [
    {
     "name": "stdout",
     "output_type": "stream",
     "text": [
      "65\n",
      "72 65 87\n"
     ]
    }
   ],
   "source": [
    "import random\n",
    "number1 = random.randint(0,100)\n",
    "number2 = random.randint(0,100)\n",
    "number3 = random.randint(0,100)\n",
    "if (number2 >= number1 and number3 >= number1): # check if number1 is less than number2 and number3\n",
    "  print(number1)\n",
    "elif (number1 >= number2 and number3 >= number2): # check if number2 is less than number1 and number3\n",
    "  print(number2)\n",
    "elif (number1 >= number3 and number2 >= number3): # check if number3 is less than number1 and number2\n",
    "  print(number3)\n",
    "# print(number1, number2, number3)"
   ]
  }
 ],
 "metadata": {
  "interpreter": {
   "hash": "63fd5069d213b44bf678585dea6b12cceca9941eaf7f819626cde1f2670de90d"
  },
  "kernelspec": {
   "display_name": "Python 3.9.7 64-bit",
   "language": "python",
   "name": "python3"
  },
  "language_info": {
   "codemirror_mode": {
    "name": "ipython",
    "version": 3
   },
   "file_extension": ".py",
   "mimetype": "text/x-python",
   "name": "python",
   "nbconvert_exporter": "python",
   "pygments_lexer": "ipython3",
   "version": "3.9.7"
  },
  "orig_nbformat": 4
 },
 "nbformat": 4,
 "nbformat_minor": 2
}
