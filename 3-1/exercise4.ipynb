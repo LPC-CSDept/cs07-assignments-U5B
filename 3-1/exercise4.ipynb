{
 "cells": [
  {
   "cell_type": "code",
   "execution_count": 2,
   "metadata": {},
   "outputs": [
    {
     "name": "stdout",
     "output_type": "stream",
     "text": [
      "[0,0] is not located inside any of the four quadrants.\n"
     ]
    }
   ],
   "source": [
    "inputX = int(input('Input X'))\n",
    "inputY = int(input('Input Y'))\n",
    "\n",
    "output = 0 # If it is located on the X or Y axis, then it is not in a quadrant\n",
    "\n",
    "if (inputX > 0 and inputY > 0): # Quadrant 1 | X+,Y+\n",
    "  output = 1\n",
    "elif (inputX < 0 and inputY > 0): # Quadrant 2 | X-,Y+\n",
    "  output = 2\n",
    "elif (inputX < 0 and inputY < 0): # Quadrant 3 | X-,Y-\n",
    "  output = 3\n",
    "elif (inputX > 0 and inputY < 0): # Quadrant 4 | X+,Y-\n",
    "  output = 4\n",
    "\n",
    "if (output == 0):\n",
    "  print(\"[{0},{1}] is not located inside any of the four quadrants.\".format(inputX, inputY))\n",
    "else:\n",
    "  print(\"[{0},{1}] is located in Quadrant {2}\".format(inputX, inputY, output))"
   ]
  }
 ],
 "metadata": {
  "interpreter": {
   "hash": "aa3dbd25a1aa1da4d31b729958a4d9ba53ba82bd518eb6e62dc535e732002114"
  },
  "kernelspec": {
   "display_name": "Python 3.9.7 ('base')",
   "language": "python",
   "name": "python3"
  },
  "language_info": {
   "codemirror_mode": {
    "name": "ipython",
    "version": 3
   },
   "file_extension": ".py",
   "mimetype": "text/x-python",
   "name": "python",
   "nbconvert_exporter": "python",
   "pygments_lexer": "ipython3",
   "version": "3.9.7"
  },
  "orig_nbformat": 4
 },
 "nbformat": 4,
 "nbformat_minor": 2
}
