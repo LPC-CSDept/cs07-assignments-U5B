{
 "cells": [
  {
   "cell_type": "code",
   "execution_count": 4,
   "metadata": {},
   "outputs": [
    {
     "name": "stdout",
     "output_type": "stream",
     "text": [
      "F\n"
     ]
    }
   ],
   "source": [
    "# Score Grading\n",
    "scoreInput = int(input('Enter your test score.'))\n",
    "\n",
    "def scoreCheck(input, greater, less):\n",
    "  if (greater <= input < less):\n",
    "    return True\n",
    "  else:\n",
    "    return False\n",
    "  \n",
    "score = ''\n",
    "if (scoreInput < 60):\n",
    "  score = 'F'\n",
    "elif (scoreCheck(scoreInput, 60, 70)):\n",
    "  score = 'D'\n",
    "elif (scoreCheck(scoreInput, 70, 80)):\n",
    "  score = 'C'\n",
    "elif (scoreCheck(scoreInput, 80, 90)):\n",
    "  score = 'B'\n",
    "elif (scoreCheck(scoreInput, 90, 100)):\n",
    "  score = 'A'\n",
    "elif (scoreInput <= 100):\n",
    "  score = 'A+'\n",
    "\n",
    "print (score)\n",
    "  \n",
    "    \n",
    "  "
   ]
  }
 ],
 "metadata": {
  "interpreter": {
   "hash": "aa3dbd25a1aa1da4d31b729958a4d9ba53ba82bd518eb6e62dc535e732002114"
  },
  "kernelspec": {
   "display_name": "Python 3.9.7 ('base')",
   "language": "python",
   "name": "python3"
  },
  "language_info": {
   "codemirror_mode": {
    "name": "ipython",
    "version": 3
   },
   "file_extension": ".py",
   "mimetype": "text/x-python",
   "name": "python",
   "nbconvert_exporter": "python",
   "pygments_lexer": "ipython3",
   "version": "3.9.7"
  },
  "orig_nbformat": 4
 },
 "nbformat": 4,
 "nbformat_minor": 2
}
