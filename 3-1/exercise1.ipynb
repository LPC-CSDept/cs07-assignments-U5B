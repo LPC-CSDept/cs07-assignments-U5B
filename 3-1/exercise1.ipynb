{
 "cells": [
  {
   "cell_type": "code",
   "execution_count": 1,
   "metadata": {},
   "outputs": [
    {
     "name": "stdout",
     "output_type": "stream",
     "text": [
      "100 is equal to 100\n"
     ]
    }
   ],
   "source": [
    "# Take a number and determine if it is less than or greater to 50\n",
    "# and is it less than or greater to 100\n",
    "\n",
    "inputNumber = int(input('Enter a number'))\n",
    "\n",
    "if (inputNumber < 50):\n",
    "  print('{0} is less than 50'.format(inputNumber))\n",
    "elif (50 < inputNumber < 100):\n",
    "  print('{0} is greater than 50 and less than 100'.format(inputNumber))\n",
    "elif (inputNumber > 100):\n",
    "  print('{0} is greater than 100'.format(inputNumber))\n",
    "elif (inputNumber == 100 or inputNumber == 50):\n",
    "  print('{0} is equal to {0}'.format(inputNumber))"
   ]
  }
 ],
 "metadata": {
  "interpreter": {
   "hash": "aa3dbd25a1aa1da4d31b729958a4d9ba53ba82bd518eb6e62dc535e732002114"
  },
  "kernelspec": {
   "display_name": "Python 3.9.7 ('base')",
   "language": "python",
   "name": "python3"
  },
  "language_info": {
   "codemirror_mode": {
    "name": "ipython",
    "version": 3
   },
   "file_extension": ".py",
   "mimetype": "text/x-python",
   "name": "python",
   "nbconvert_exporter": "python",
   "pygments_lexer": "ipython3",
   "version": "3.9.7"
  },
  "orig_nbformat": 4
 },
 "nbformat": 4,
 "nbformat_minor": 2
}
