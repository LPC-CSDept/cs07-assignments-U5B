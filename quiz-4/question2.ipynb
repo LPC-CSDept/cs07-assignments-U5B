{
 "cells": [
  {
   "cell_type": "code",
   "execution_count": 2,
   "metadata": {},
   "outputs": [
    {
     "name": "stdout",
     "output_type": "stream",
     "text": [
      " apple (1p)\n",
      " apple pineapple (2p)\n",
      " apple pineapple pine (3p)\n",
      " apple pineapple pine (3p)\n",
      " apple pineapple pine (3p)\n",
      " apple pineapple pine (3p)\n",
      " apple pineapple pine pineapple (4p)\n",
      "4\n"
     ]
    }
   ],
   "source": [
    "# Make a while loop to take user string values\n",
    "# It will stop when the input string is 'stop'\n",
    "# Otherwise, check if the input string is 'p'\n",
    "\n",
    "# After while loop, print the number of strings including 'p'\n",
    "# input: program python java c++ stop\n",
    "# output: 2\n",
    "stopSearching = False\n",
    "pList = ''\n",
    "while (stopSearching == False):\n",
    "  inputString = input('Enter a string')\n",
    "  \n",
    "  if (inputString == 'stop' or inputString == ''):\n",
    "    stopSearching = True\n",
    "    print(pList.count(' ')) # if user inputs spaces, we count those too\n",
    "    break\n",
    "\n",
    "  inputArray = inputString.split(' ') # code to split the spaces and check each word in an input string\n",
    "  while (inputArray != []): # probably better to use a for loop\n",
    "    if (inputArray[0].find('p') > -1): # is there a p in the string?\n",
    "      pList = pList + ' ' + inputArray[0]\n",
    "    inputArray.remove(inputArray[0]) # delete it from the array\n",
    "  print(pList + ' (' + str(pList.count(' ')) + 'p)') # debug print"
   ]
  }
 ],
 "metadata": {
  "interpreter": {
   "hash": "0484de58d0e6f367e38212e66a445a7be7c68e1190c80e7d7c8471a9129822ee"
  },
  "kernelspec": {
   "display_name": "Python 3.9.7 ('base')",
   "language": "python",
   "name": "python3"
  },
  "language_info": {
   "codemirror_mode": {
    "name": "ipython",
    "version": 3
   },
   "file_extension": ".py",
   "mimetype": "text/x-python",
   "name": "python",
   "nbconvert_exporter": "python",
   "pygments_lexer": "ipython3",
   "version": "3.9.7"
  },
  "orig_nbformat": 4
 },
 "nbformat": 4,
 "nbformat_minor": 2
}
