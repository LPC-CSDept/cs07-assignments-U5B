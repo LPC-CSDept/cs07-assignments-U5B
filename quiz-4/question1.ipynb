{
 "cells": [
  {
   "cell_type": "code",
   "execution_count": 9,
   "metadata": {},
   "outputs": [
    {
     "name": "stdout",
     "output_type": "stream",
     "text": [
      "24 2\n",
      " 3 3 3 3 3 3 3 3 24 2\n"
     ]
    }
   ],
   "source": [
    "# Make a while loop that runs until we met two consecutive even numbers.\n",
    "even = False\n",
    "numberArray = ''\n",
    "numberOfEvens = 0\n",
    "lastEvenNumber = 0\n",
    "\n",
    "while (even == False):\n",
    "  # get the number\n",
    "  inputNumber = input('Enter a number:')\n",
    "  try:\n",
    "    inputNumber = int(inputNumber)\n",
    "  except:\n",
    "    break\n",
    "  \n",
    "  # check the number\n",
    "  numberArray = numberArray + ' ' + str(inputNumber)\n",
    "  if (inputNumber % 2 == 0): # number is even\n",
    "    numberOfEvens = numberOfEvens + 1\n",
    "    if (numberOfEvens > 1): # two consecutive even numbers (end)\n",
    "      print(str(lastEvenNumber) + ' ' + str(inputNumber))\n",
    "      print(numberArray)\n",
    "      even = True\n",
    "    else:\n",
    "       lastEvenNumber = inputNumber\n",
    "  else:\n",
    "    numberOfEvens = 0\n",
    "    lastEvenNumber = 0"
   ]
  }
 ],
 "metadata": {
  "interpreter": {
   "hash": "0484de58d0e6f367e38212e66a445a7be7c68e1190c80e7d7c8471a9129822ee"
  },
  "kernelspec": {
   "display_name": "Python 3.9.7 ('base')",
   "language": "python",
   "name": "python3"
  },
  "language_info": {
   "codemirror_mode": {
    "name": "ipython",
    "version": 3
   },
   "file_extension": ".py",
   "mimetype": "text/x-python",
   "name": "python",
   "nbconvert_exporter": "python",
   "pygments_lexer": "ipython3",
   "version": "3.9.7"
  },
  "orig_nbformat": 4
 },
 "nbformat": 4,
 "nbformat_minor": 2
}
