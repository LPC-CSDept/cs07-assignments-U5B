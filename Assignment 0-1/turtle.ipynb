{
 "cells": [
  {
   "cell_type": "code",
   "execution_count": 2,
   "metadata": {},
   "outputs": [],
   "source": [
    "# Display turtle\n",
    "import turtle\n",
    "turtle.clear()\n",
    "turtle.pencolor('red')\n",
    "turtle.pensize(2)\n",
    "turtle.circle(100)"
   ]
  }
 ],
 "metadata": {
  "interpreter": {
   "hash": "aa3dbd25a1aa1da4d31b729958a4d9ba53ba82bd518eb6e62dc535e732002114"
  },
  "kernelspec": {
   "display_name": "Python 3.9.7 ('base')",
   "language": "python",
   "name": "python3"
  },
  "language_info": {
   "codemirror_mode": {
    "name": "ipython",
    "version": 3
   },
   "file_extension": ".py",
   "mimetype": "text/x-python",
   "name": "python",
   "nbconvert_exporter": "python",
   "pygments_lexer": "ipython3",
   "version": "3.9.7"
  },
  "orig_nbformat": 4
 },
 "nbformat": 4,
 "nbformat_minor": 2
}
