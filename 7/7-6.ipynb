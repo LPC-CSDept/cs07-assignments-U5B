{
 "cells": [
  {
   "cell_type": "code",
   "execution_count": 8,
   "metadata": {},
   "outputs": [
    {
     "name": "stdout",
     "output_type": "stream",
     "text": [
      "[20, 30, 35] is a subset of [5, 20, 30, 35, 40]\n"
     ]
    }
   ],
   "source": [
    "num1 = [20, 30, 35]\n",
    "num2 = [5, 20, 30, 35, 40]\n",
    "count = 0\n",
    "subset = False\n",
    "\n",
    "for number in num2:\n",
    "  if (number == num1[count]):\n",
    "    count += 1\n",
    "  else:\n",
    "    count = 0\n",
    "  if (count == len(num1)):\n",
    "    subset = True\n",
    "    break\n",
    "if (subset == True):\n",
    "  print(num1, 'is a subset of', num2)\n",
    "else:\n",
    "  print(num1, 'is not a subset of', num2)\n",
    "\n"
   ]
  }
 ],
 "metadata": {
  "interpreter": {
   "hash": "0484de58d0e6f367e38212e66a445a7be7c68e1190c80e7d7c8471a9129822ee"
  },
  "kernelspec": {
   "display_name": "Python 3.9.7 ('base': conda)",
   "language": "python",
   "name": "python3"
  },
  "language_info": {
   "codemirror_mode": {
    "name": "ipython",
    "version": 3
   },
   "file_extension": ".py",
   "mimetype": "text/x-python",
   "name": "python",
   "nbconvert_exporter": "python",
   "pygments_lexer": "ipython3",
   "version": "3.9.7"
  },
  "orig_nbformat": 4
 },
 "nbformat": 4,
 "nbformat_minor": 2
}
