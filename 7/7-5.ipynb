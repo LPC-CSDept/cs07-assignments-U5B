{
 "cells": [
  {
   "cell_type": "code",
   "execution_count": 4,
   "metadata": {},
   "outputs": [
    {
     "name": "stdout",
     "output_type": "stream",
     "text": [
      "[3, 2, 7, 1, 6, 1, 1, 4, 7, 7, 6, 1, 1, 6, 9, 9, 3, 5, 6]\n",
      "[3, 2, 7, 1, 1, 1, 4, 7, 7, 1, 1, 9, 9, 3, 5]\n",
      "[6, 6, 6, 6]\n"
     ]
    }
   ],
   "source": [
    "import random\n",
    "randomNumbers = []\n",
    "deletedNumbers = []\n",
    "\n",
    "# Generate random numbers\n",
    "for num in range(1,20):\n",
    "  randomNumber = random.randint(0,10)\n",
    "  randomNumbers.append(randomNumber)\n",
    "\n",
    "# Ask for user input\n",
    "print(randomNumbers)\n",
    "userInput = int(input('Enter a value to delete in this list...'))\n",
    "\n",
    "# Go through each number and remove the numbers that was selected by the user\n",
    "for number in randomNumbers:\n",
    "  if (number == userInput): \n",
    "    randomNumbers.remove(userInput)\n",
    "# Print list without the user input numbers\n",
    "print(randomNumbers)\n"
   ]
  }
 ],
 "metadata": {
  "interpreter": {
   "hash": "63fd5069d213b44bf678585dea6b12cceca9941eaf7f819626cde1f2670de90d"
  },
  "kernelspec": {
   "display_name": "Python 3.9.7 64-bit",
   "language": "python",
   "name": "python3"
  },
  "language_info": {
   "codemirror_mode": {
    "name": "ipython",
    "version": 3
   },
   "file_extension": ".py",
   "mimetype": "text/x-python",
   "name": "python",
   "nbconvert_exporter": "python",
   "pygments_lexer": "ipython3",
   "version": "3.9.7"
  },
  "orig_nbformat": 4
 },
 "nbformat": 4,
 "nbformat_minor": 2
}
