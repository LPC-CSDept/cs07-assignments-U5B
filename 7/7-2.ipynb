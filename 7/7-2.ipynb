{
 "cells": [
  {
   "cell_type": "code",
   "execution_count": 8,
   "metadata": {},
   "outputs": [
    {
     "name": "stdout",
     "output_type": "stream",
     "text": [
      "[14.29, 19.29, 4.29, 24.29, 15.71, 20.71, 25.71]\n"
     ]
    }
   ],
   "source": [
    "inputList = [10, 5, 20, 0, 40, 45, 50]\n",
    "outputList = []\n",
    "total = 0\n",
    "\n",
    "# Calculate average\n",
    "for value in inputList:\n",
    "  total += value\n",
    "average = total / len(inputList) # total value divided by length of list\n",
    "average = round(average, 2) # round the average to 2 decimal places\n",
    "\n",
    "# Calculate every average\n",
    "for value in inputList:\n",
    "  output = 0\n",
    "  if (average >= value): # if average is greater, subtract from average\n",
    "    output = average - value\n",
    "  elif (value > average): # if value is greater, subtract from value\n",
    "    output = value - average\n",
    "  output = round(output, 2) # round the output to 2 decimal places\n",
    "  outputList.append(output)\n",
    "print(outputList)\n",
    "\n"
   ]
  }
 ],
 "metadata": {
  "interpreter": {
   "hash": "63fd5069d213b44bf678585dea6b12cceca9941eaf7f819626cde1f2670de90d"
  },
  "kernelspec": {
   "display_name": "Python 3.9.7 64-bit",
   "language": "python",
   "name": "python3"
  },
  "language_info": {
   "codemirror_mode": {
    "name": "ipython",
    "version": 3
   },
   "file_extension": ".py",
   "mimetype": "text/x-python",
   "name": "python",
   "nbconvert_exporter": "python",
   "pygments_lexer": "ipython3",
   "version": "3.9.7"
  },
  "orig_nbformat": 4
 },
 "nbformat": 4,
 "nbformat_minor": 2
}
