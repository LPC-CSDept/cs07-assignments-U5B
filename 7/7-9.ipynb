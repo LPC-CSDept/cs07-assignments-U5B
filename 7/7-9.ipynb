{
 "cells": [
  {
   "cell_type": "code",
   "execution_count": 8,
   "metadata": {},
   "outputs": [
    {
     "name": "stdout",
     "output_type": "stream",
     "text": [
      "True\n"
     ]
    }
   ],
   "source": [
    "inputList = []\n",
    "found = False\n",
    "keyword = str(input('Enter a keyword...'))\n",
    "if keyword.find(' ') != -1 or keyword == '': \n",
    "  raise TypeError('invalid word')\n",
    "inputCount = int(input('Enter number of words to input...'))\n",
    "if inputCount <= 0: \n",
    "  raise TypeError('negative number')\n",
    "counter = 0\n",
    "while counter < inputCount:\n",
    "  word = str(input('Enter word'))\n",
    "  if (word != ''): inputList.append(word)\n",
    "  counter += 1\n",
    "for word in inputList:\n",
    "  if (word.find(keyword) != '-1'):\n",
    "    found = True\n",
    "    break\n",
    "print(found)"
   ]
  }
 ],
 "metadata": {
  "interpreter": {
   "hash": "2be5faf79681da6f2a61fdfdd5405d65d042280f7fba6178067603e3a2925119"
  },
  "kernelspec": {
   "display_name": "Python 3.10.4 64-bit",
   "language": "python",
   "name": "python3"
  },
  "language_info": {
   "codemirror_mode": {
    "name": "ipython",
    "version": 3
   },
   "file_extension": ".py",
   "mimetype": "text/x-python",
   "name": "python",
   "nbconvert_exporter": "python",
   "pygments_lexer": "ipython3",
   "version": "3.9.7"
  },
  "orig_nbformat": 4
 },
 "nbformat": 4,
 "nbformat_minor": 2
}
