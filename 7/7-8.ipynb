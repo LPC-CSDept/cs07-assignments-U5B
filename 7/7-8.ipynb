{
 "cells": [
  {
   "cell_type": "code",
   "execution_count": 1,
   "metadata": {},
   "outputs": [
    {
     "name": "stdout",
     "output_type": "stream",
     "text": [
      "[3, 1, 2, 3, 4, 5, 6, 7]\n"
     ]
    }
   ],
   "source": [
    "num1 = [1, 2, 3]\n",
    "num2 = [4, 5, 6, 7]\n",
    "num3 = num1 + num2\n",
    "num3.sort()\n",
    "num3 = [len(num1)] + num3\n",
    "print(num3)"
   ]
  },
  {
   "cell_type": "code",
   "execution_count": 3,
   "metadata": {},
   "outputs": [
    {
     "name": "stdout",
     "output_type": "stream",
     "text": [
      "[1, 4, 2, 5, 3, 6, 7]\n"
     ]
    }
   ],
   "source": [
    "num1 = [1, 2, 3]\n",
    "num2 = [4, 5, 6, 7]\n",
    "result = []\n",
    "count = 0\n",
    "use = None\n",
    "if (len(num1) > len(num2)):\n",
    "  use = num1\n",
    "else:\n",
    "  use = num2\n",
    "for i in use:\n",
    "  try: \n",
    "    if (num1[count]): result.append(num1[count])\n",
    "  except:\n",
    "    {}\n",
    "  try:\n",
    "    if (num2[count]): result.append(num2[count])\n",
    "  except:\n",
    "    {}\n",
    "  count += 1\n",
    "print(result)\n",
    "  "
   ]
  }
 ],
 "metadata": {
  "interpreter": {
   "hash": "0484de58d0e6f367e38212e66a445a7be7c68e1190c80e7d7c8471a9129822ee"
  },
  "kernelspec": {
   "display_name": "Python 3.9.7 ('base': conda)",
   "language": "python",
   "name": "python3"
  },
  "language_info": {
   "codemirror_mode": {
    "name": "ipython",
    "version": 3
   },
   "file_extension": ".py",
   "mimetype": "text/x-python",
   "name": "python",
   "nbconvert_exporter": "python",
   "pygments_lexer": "ipython3",
   "version": "3.9.7"
  },
  "orig_nbformat": 4
 },
 "nbformat": 4,
 "nbformat_minor": 2
}
