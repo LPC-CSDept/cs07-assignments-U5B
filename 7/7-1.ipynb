{
 "cells": [
  {
   "cell_type": "code",
   "execution_count": 1,
   "metadata": {},
   "outputs": [
    {
     "name": "stdout",
     "output_type": "stream",
     "text": [
      "[15, 20, 0, 3]\n",
      "Sum: 18 | Average: 9.5\n"
     ]
    }
   ],
   "source": [
    "# Input: 15 20 0 3 -1\n",
    "# Output: 18 | 9.5\n",
    "\n",
    "check = True\n",
    "inputList = list()\n",
    "while (check == True):\n",
    "  inputValue = input('Numbers are requested...')\n",
    "  arrayValues = inputValue.split(' ')\n",
    "  while (arrayValues != []):\n",
    "    value = int(arrayValues[0])\n",
    "    if (value >= 0):\n",
    "      inputList.append(value)\n",
    "      arrayValues.remove(arrayValues[0])\n",
    "    else:\n",
    "      print(inputList)\n",
    "      arrayValues = []\n",
    "      check = False\n",
    "\n",
    "total = 0\n",
    "min = 0\n",
    "max = 0\n",
    "for i in range(len(inputList)):\n",
    "  total += inputList[i]\n",
    "  if (i == 0 or min > inputList[i]):\n",
    "    min = inputList[i]\n",
    "  if (i == 0 or max < inputList[i]):\n",
    "    max = inputList[i]\n",
    "average = total / len(inputList)\n",
    "total = total - min - max\n",
    "print('Sum: {0} | Average: {1}'.format(total, average))\n",
    "  \n",
    "  "
   ]
  }
 ],
 "metadata": {
  "interpreter": {
   "hash": "2be5faf79681da6f2a61fdfdd5405d65d042280f7fba6178067603e3a2925119"
  },
  "kernelspec": {
   "display_name": "Python 3.10.2 64-bit",
   "language": "python",
   "name": "python3"
  },
  "language_info": {
   "codemirror_mode": {
    "name": "ipython",
    "version": 3
   },
   "file_extension": ".py",
   "mimetype": "text/x-python",
   "name": "python",
   "nbconvert_exporter": "python",
   "pygments_lexer": "ipython3",
   "version": "3.9.7"
  },
  "orig_nbformat": 4
 },
 "nbformat": 4,
 "nbformat_minor": 2
}
