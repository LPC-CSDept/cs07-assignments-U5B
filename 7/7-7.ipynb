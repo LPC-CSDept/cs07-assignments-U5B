{
 "cells": [
  {
   "cell_type": "code",
   "execution_count": 7,
   "metadata": {},
   "outputs": [
    {
     "name": "stdout",
     "output_type": "stream",
     "text": [
      "[3, 1, 2, 3, 4, 5, 6, 7]\n"
     ]
    }
   ],
   "source": [
    "num1 = [1, 2, 3]\n",
    "num2 = [4, 5, 6, 7]\n",
    "num3 = num1 + num2\n",
    "num3.sort()\n",
    "num3 = [len(num1)] + num3\n",
    "print(num3)"
   ]
  },
  {
   "cell_type": "code",
   "execution_count": 9,
   "metadata": {},
   "outputs": [
    {
     "name": "stdout",
     "output_type": "stream",
     "text": [
      "[1, 4, 2, 5, 3, 6, 7]\n"
     ]
    }
   ],
   "source": [
    "num1 = [1, 2, 3]\n",
    "num2 = [4, 5, 6, 7]\n",
    "check = num2\n",
    "ans = []\n",
    "if(len(num1) > len(num2)):\n",
    "  check = num1\n",
    "\n",
    "for i in range(len(check)):\n",
    "  try:\n",
    "    ans.append(num1[i])\n",
    "  except:\n",
    "    pass\n",
    "  try:\n",
    "    ans.append(num2[i])\n",
    "  except:\n",
    "    pass\n",
    "print(ans)"
   ]
  },
  {
   "cell_type": "code",
   "execution_count": null,
   "metadata": {},
   "outputs": [],
   "source": []
  }
 ],
 "metadata": {
  "interpreter": {
   "hash": "0484de58d0e6f367e38212e66a445a7be7c68e1190c80e7d7c8471a9129822ee"
  },
  "kernelspec": {
   "display_name": "Python 3.9.7 ('base')",
   "language": "python",
   "name": "python3"
  },
  "language_info": {
   "codemirror_mode": {
    "name": "ipython",
    "version": 3
   },
   "file_extension": ".py",
   "mimetype": "text/x-python",
   "name": "python",
   "nbconvert_exporter": "python",
   "pygments_lexer": "ipython3",
   "version": "3.9.7"
  },
  "orig_nbformat": 4
 },
 "nbformat": 4,
 "nbformat_minor": 2
}
