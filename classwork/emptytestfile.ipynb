{
 "cells": [
  {
   "cell_type": "code",
   "execution_count": 5,
   "metadata": {},
   "outputs": [
    {
     "name": "stdout",
     "output_type": "stream",
     "text": [
      "10\n",
      "20\n",
      "30\n"
     ]
    }
   ],
   "source": [
    "def printlst(values = []):\n",
    "  for v in values:\n",
    "      print(v)\n",
    "\n",
    "lst = [10, 20, 30]\n",
    "printlst(lst)"
   ]
  },
  {
   "cell_type": "code",
   "execution_count": 9,
   "metadata": {},
   "outputs": [
    {
     "name": "stdout",
     "output_type": "stream",
     "text": [
      "2\n",
      "6\n",
      "[4]\n"
     ]
    }
   ],
   "source": [
    "def retEven(lst):\n",
    "  evenlst = []\n",
    "  for v in lst:\n",
    "    if v % 2 == 0:\n",
    "      evenlst.append(v)\n",
    "  return evenlst\n",
    "\n",
    "lst = [1,2,3,4,5,6]\n",
    "first, *others, last = retEven(lst)\n",
    "print(first)\n",
    "print(last)\n",
    "print(others)"
   ]
  },
  {
   "cell_type": "code",
   "execution_count": 11,
   "metadata": {},
   "outputs": [
    {
     "name": "stdout",
     "output_type": "stream",
     "text": [
      "0\n",
      "2\n",
      "4\n",
      "6\n",
      "8\n",
      "10\n",
      "12\n",
      "14\n"
     ]
    }
   ],
   "source": [
    "def even(lst): # generator\n",
    "  for v in lst:\n",
    "    if v % 2 == 0:\n",
    "      yield v\n",
    "mylst = { x for x in range (16)}\n",
    "gen = even(mylst)\n",
    "\n",
    "for v in gen:\n",
    "  print(v)"
   ]
  },
  {
   "cell_type": "code",
   "execution_count": 1,
   "metadata": {},
   "outputs": [
    {
     "name": "stdout",
     "output_type": "stream",
     "text": [
      "2\n"
     ]
    }
   ],
   "source": [
    "pw = lambda x : x*x\n",
    "\n",
    "greater = lambda x : x + 1\n",
    "\n",
    "print(greater(1))"
   ]
  }
 ],
 "metadata": {
  "interpreter": {
   "hash": "0484de58d0e6f367e38212e66a445a7be7c68e1190c80e7d7c8471a9129822ee"
  },
  "kernelspec": {
   "display_name": "Python 3.9.7 ('base')",
   "language": "python",
   "name": "python3"
  },
  "language_info": {
   "codemirror_mode": {
    "name": "ipython",
    "version": 3
   },
   "file_extension": ".py",
   "mimetype": "text/x-python",
   "name": "python",
   "nbconvert_exporter": "python",
   "pygments_lexer": "ipython3",
   "version": "3.9.7"
  },
  "orig_nbformat": 4
 },
 "nbformat": 4,
 "nbformat_minor": 2
}
